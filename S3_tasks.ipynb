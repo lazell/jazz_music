{
 "cells": [
  {
   "cell_type": "code",
   "execution_count": 24,
   "metadata": {},
   "outputs": [],
   "source": [
    "import os\n",
    "\n",
    "# Import bash_profile keys\n",
    "access_key = os.environ['AWS_ACCESS_KEY_ID']\n",
    "secret_key = os.environ['AWS_SECRET_ACCESS_KEY']\n"
   ]
  },
  {
   "cell_type": "code",
   "execution_count": 28,
   "metadata": {},
   "outputs": [
    {
     "data": {
      "text/plain": [
       "0"
      ]
     },
     "execution_count": 28,
     "metadata": {},
     "output_type": "execute_result"
    }
   ],
   "source": [
    "#Upload all contets of files to S3\n",
    "\n",
    "local_file path = 'music_downloads/'\n",
    "bucket_and_path = 'swingmusic001/music_downloads'\n",
    "os.system('aws s3 cp {} s3://{} --recursive'.format(local_file_path, bucket_and_path))"
   ]
  },
  {
   "cell_type": "code",
   "execution_count": 31,
   "metadata": {},
   "outputs": [
    {
     "data": {
      "text/plain": [
       "0"
      ]
     },
     "execution_count": 31,
     "metadata": {},
     "output_type": "execute_result"
    }
   ],
   "source": [
    "#Upload single file to S3\n",
    "\n",
    "local_file_path = 'music_downloads/OKe265144.mp3'\n",
    "bucket_and_path = 'swingmusic001/music_downloads/OKe265144.mp3'\n",
    "os.system('aws s3 cp {} s3://{}'.format(local_file_path, bucket_and_path))"
   ]
  },
  {
   "cell_type": "code",
   "execution_count": 42,
   "metadata": {},
   "outputs": [],
   "source": [
    "import os\n",
    "\n",
    "#Upload mp3 files IDs 0001 through 0099\n",
    "\n",
    "def upload_mp3s_to_s3(starts_with_str):\n",
    "    \n",
    "    #Upload mp3 files IDs which start with specific string.\n",
    "    \n",
    "    for file in os.listdir(\"music_downloads\"):\n",
    "        if file.startswith(starts_with_str):\n",
    "            mp3_file_name = (os.path.join(\"\", file))\n",
    "            bucket_and_path = 'swingmusic001/music_downloads/{}'.format(mp3_file_name)\n",
    "            os.system('aws s3 cp music_downloads/{} s3://{}'.format(mp3_file_name, bucket_and_path))\n",
    "\n",
    "    "
   ]
  },
  {
   "cell_type": "code",
   "execution_count": 44,
   "metadata": {},
   "outputs": [],
   "source": [
    "upload_mp3s_to_s3(\"011\")"
   ]
  },
  {
   "cell_type": "code",
   "execution_count": null,
   "metadata": {
    "collapsed": true
   },
   "outputs": [],
   "source": []
  }
 ],
 "metadata": {
  "kernelspec": {
   "display_name": "Python 2",
   "language": "python",
   "name": "python2"
  },
  "language_info": {
   "codemirror_mode": {
    "name": "ipython",
    "version": 2
   },
   "file_extension": ".py",
   "mimetype": "text/x-python",
   "name": "python",
   "nbconvert_exporter": "python",
   "pygments_lexer": "ipython2",
   "version": "2.7.13"
  }
 },
 "nbformat": 4,
 "nbformat_minor": 2
}
