{
 "cells": [
  {
   "cell_type": "code",
   "execution_count": null,
   "metadata": {
    "collapsed": true
   },
   "outputs": [],
   "source": [
    "import os\n",
    "\n",
    "# Import bash_profile keys\n",
    "access_key = os.environ['AWS_ACCESS_KEY_ID']\n",
    "secret_key = os.environ['AWS_SECRET_ACCESS_KEY']\n"
   ]
  },
  {
   "cell_type": "code",
   "execution_count": null,
   "metadata": {},
   "outputs": [],
   "source": [
    "#Upload all contets of files to S3\n",
    "\n",
    "local_file path = 'music_downloads/'\n",
    "bucket_and_path = 'swingmusic001/music_downloads'\n",
    "os.system('aws s3 cp {} s3://{} --recursive'.format(local_file_path, bucket_and_path))"
   ]
  },
  {
   "cell_type": "code",
   "execution_count": null,
   "metadata": {},
   "outputs": [],
   "source": [
    "#Upload single file to S3\n",
    "\n",
    "local_file_path = 'music_downloads/OKe265144.mp3'\n",
    "bucket_and_path = 'swingmusic001/music_downloads/OKe265144.mp3'\n",
    "os.system('aws s3 cp {} s3://{}'.format(local_file_path, bucket_and_path))"
   ]
  },
  {
   "cell_type": "code",
   "execution_count": null,
   "metadata": {
    "collapsed": true
   },
   "outputs": [],
   "source": [
    "import os\n",
    "\n",
    "#Upload mp3 files IDs 0001 through 0099\n",
    "\n",
    "def upload_mp3s_to_s3(starts_with_str):\n",
    "    \n",
    "    #Upload mp3 files IDs which start with specific string.\n",
    "    \n",
    "    for file in os.listdir(\"music_downloads\"):\n",
    "        if file.startswith(starts_with_str):\n",
    "            mp3_file_name = (os.path.join(\"\", file))\n",
    "            bucket_and_path = 'swingmusic001/music_downloads/{}'.format(mp3_file_name)\n",
    "            os.system('aws s3 cp music_downloads/{} s3://{}'.format(mp3_file_name, bucket_and_path))\n",
    "\n",
    "    "
   ]
  },
  {
   "cell_type": "code",
   "execution_count": null,
   "metadata": {
    "collapsed": true
   },
   "outputs": [],
   "source": [
    "upload_mp3s_to_s3(\"011\")"
   ]
  },
  {
   "cell_type": "code",
   "execution_count": null,
   "metadata": {
    "collapsed": true
   },
   "outputs": [],
   "source": [
    "import pandas as pd\n",
    "from StringIO import StringIO\n",
    "\n",
    "def get_csv_from_s3(bucket,csv_path):\n",
    "\n",
    "    # Import bash_profile keys\n",
    "\n",
    "    conn =  boto.connect_s3(access_key,secret_key)\n",
    "    bucket = conn.get_bucket('swingmusic001')\n",
    "    content = bucket.get_key(csv_path).get_contents_as_string()\n",
    "\n",
    "    return pd.read_csv(StringIO(content))"
   ]
  },
  {
   "cell_type": "code",
   "execution_count": null,
   "metadata": {},
   "outputs": [],
   "source": [
    "get_csv_from_s3('swingmusic001',\"metadata/Swing_Dance_Style_Master_DownloadA.csv\")"
   ]
  },
  {
   "cell_type": "code",
   "execution_count": null,
   "metadata": {},
   "outputs": [],
   "source": [
    "import boto\n",
    "import pandas as pd\n",
    "import StringIO\n",
    "\n",
    "conn =  boto.connect_s3(access_key,secret_key)\n",
    "bucket = conn.get_bucket('swingmusic001')\n",
    "content = bucket.list()\n",
    "\n",
    "for x in content:\n",
    "    print x"
   ]
  },
  {
   "cell_type": "code",
   "execution_count": null,
   "metadata": {
    "collapsed": true
   },
   "outputs": [],
   "source": []
  }
 ],
 "metadata": {
  "kernelspec": {
   "display_name": "Python 2",
   "language": "python",
   "name": "python2"
  },
  "language_info": {
   "codemirror_mode": {
    "name": "ipython",
    "version": 2
   },
   "file_extension": ".py",
   "mimetype": "text/x-python",
   "name": "python",
   "nbconvert_exporter": "python",
   "pygments_lexer": "ipython2",
   "version": "2.7.13"
  }
 },
 "nbformat": 4,
 "nbformat_minor": 2
}
