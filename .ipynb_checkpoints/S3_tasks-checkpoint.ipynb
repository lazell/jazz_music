{
 "cells": [
  {
   "cell_type": "code",
   "execution_count": null,
   "metadata": {
    "collapsed": true
   },
   "outputs": [],
   "source": [
    "import os\n",
    "\n",
    "# Import bash_profile keys\n",
    "access_key = os.environ['AWS_ACCESS_KEY_ID']\n",
    "secret_key = os.environ['AWS_SECRET_ACCESS_KEY']\n"
   ]
  },
  {
   "cell_type": "code",
   "execution_count": null,
   "metadata": {
    "collapsed": true
   },
   "outputs": [],
   "source": [
    "#Upload all contets of files to S3\n",
    "\n",
    "local_file path = 'music_downloads/'\n",
    "bucket_and_path = 'swingmusic001/music_downloads'\n",
    "os.system('aws s3 cp {} s3://{} --recursive'.format(local_file_path, bucket_and_path))"
   ]
  },
  {
   "cell_type": "code",
   "execution_count": null,
   "metadata": {
    "collapsed": true
   },
   "outputs": [],
   "source": [
    "#Upload single file to S3\n",
    "\n",
    "local_file_path = 'music_downloads/OKe265144.mp3'\n",
    "bucket_and_path = 'swingmusic001/music_downloads/OKe265144.mp3'\n",
    "os.system('aws s3 cp {} s3://{}'.format(local_file_path, bucket_and_path))"
   ]
  },
  {
   "cell_type": "code",
   "execution_count": null,
   "metadata": {
    "collapsed": true
   },
   "outputs": [],
   "source": [
    "import os\n",
    "\n",
    "#Upload mp3 files IDs 0001 through 0099\n",
    "\n",
    "def upload_mp3s_to_s3(starts_with_str):\n",
    "    \n",
    "    #Upload mp3 files IDs which start with specific string.\n",
    "    \n",
    "    for file in os.listdir(\"music_downloads\"):\n",
    "        if file.startswith(starts_with_str):\n",
    "            mp3_file_name = (os.path.join(\"\", file))\n",
    "            bucket_and_path = 'swingmusic001/music_downloads/{}'.format(mp3_file_name)\n",
    "            os.system('aws s3 cp music_downloads/{} s3://{}'.format(mp3_file_name, bucket_and_path))\n",
    "\n",
    "    "
   ]
  },
  {
   "cell_type": "code",
   "execution_count": null,
   "metadata": {
    "collapsed": true
   },
   "outputs": [],
   "source": [
    "upload_mp3s_to_s3(\"011\")"
   ]
  },
  {
   "cell_type": "code",
   "execution_count": 1,
   "metadata": {
    "collapsed": true
   },
   "outputs": [],
   "source": [
    "import pandas as pd\n",
    "from StringIO import StringIO\n",
    "\n",
    "def get_csv_from_s3(bucket,csv_path):\n",
    "\n",
    "    # Import bash_profile keys\n",
    "\n",
    "    conn =  boto.connect_s3(access_key,secret_key)\n",
    "    bucket = conn.get_bucket('swingmusic001')\n",
    "    content = bucket.get_key(csv_path).get_contents_as_string()\n",
    "\n",
    "    return pd.read_csv(StringIO(content))"
   ]
  },
  {
   "cell_type": "code",
   "execution_count": null,
   "metadata": {
    "collapsed": true
   },
   "outputs": [],
   "source": [
    "get_csv_from_s3('swingmusic001',\"metadata/Swing_Dance_Style_Master_DownloadA.csv\")"
   ]
  },
  {
   "cell_type": "code",
   "execution_count": null,
   "metadata": {
    "collapsed": true
   },
   "outputs": [],
   "source": [
    "import boto\n",
    "import pandas as pd\n",
    "import StringIO\n",
    "\n",
    "conn =  boto.connect_s3(access_key,secret_key)\n",
    "bucket = conn.get_bucket('swingmusic001')\n",
    "content = bucket.list()\n",
    "\n",
    "for x in content:\n",
    "    print x"
   ]
  },
  {
   "cell_type": "code",
   "execution_count": null,
   "metadata": {
    "collapsed": true
   },
   "outputs": [],
   "source": [
    "#Files from music_downloads to wav_samples\n",
    "\n",
    "with open('desktop/projects/jazz_music/wav_samples/files_npy.csv') as f:\n",
    "    for i, file_ in enumerate(f):\n",
    "        if file_.strip()[-4:] == \".npy\":\n",
    "            os.rename(\"desktop/projects/jazz_music/wav_samples/{}\".format(file_.strip()), \n",
    "                      \"desktop/projects/jazz_music/MelSpec/MelSpecNpy/{}\".format(file_.strip()))"
   ]
  },
  {
   "cell_type": "code",
   "execution_count": null,
   "metadata": {
    "collapsed": true
   },
   "outputs": [],
   "source": [
    "import numpy as np\n",
    "\n",
    "arr = np.load('downloads/')"
   ]
  },
  {
   "cell_type": "code",
   "execution_count": null,
   "metadata": {
    "collapsed": true
   },
   "outputs": [],
   "source": [
    "import os\n",
    "\n",
    "start = int(raw_input(\"start:\"))\n",
    "stop = int(raw_input(\"stop:\"))\n",
    "\n",
    "with open('mp3_files.txt') as f:\n",
    "    for i, line in enumerate(f):\n",
    "        if i in range(start,stop):\n",
    "            os.system('aws s3 cp s3://swingmusic001/music_downloads/{} music_downloads/{}'.format(line.strip(), line.strip()))\n",
    "\n",
    "\n",
    "\n",
    "#1.Navigate to music_downloads folder\n",
    "#2.command line \"ls > wav_files_for_s3_transfer.txt\"\n",
    "#3. Execute the following to move wav files to wav_samples folder \n",
    "\n",
    "import os \n",
    "\n",
    "with open('wav_files_for_s3_transfer.txt') as f:\n",
    "     for i, file_ in enumerate(f):\n",
    "            if file_.strip()[-4:] == \".wav\":\n",
    "                os.rename(\"{}\".format(file_.strip()),\n",
    "                       \"wav_samples/{}\".format(file_.strip()))\n",
    "\n",
    "#4. Command line \"aws s3 cp wav_samples s3://swingmusic001/wav_samples_1 --recursive \"\n",
    "\n",
    "#5. Delete mp3 after checking uploads are fine. Load ipython in music_downloads folder\n",
    "\n",
    "import os \n",
    "\n",
    "with open('wav_files_for_s3_transfer.txt') as f:\n",
    "     for i, file_ in enumerate(f):\n",
    "            if file_.strip()[-4:] == \".mp3\":\n",
    "                os.system(\"rm {}\".format(file_.strip()))\n",
    "\n",
    "# Navigate to Jazz_music folder and copy py fle to music_downloads: \"cp create_mel_spectrogram.py music_downloads\"\n",
    "\n",
    "#5. navigate to wav_samples and run \"ls > wav_files.txt\"\n",
    "\n",
    "# Navigate to music_downloads folder run \"python create_mel_spectrogram.py\"\n",
    "\n",
    "# Navigate to wav_samples command line \"ls > npy_files.txt\"\n",
    "\n",
    "# also run \"mkdir npy_samples\"\n",
    "\n",
    "# Execute the following to move wav files to npy_samples folder \n",
    "\n",
    "import os \n",
    "\n",
    "with open('npy_files.txt') as f:\n",
    "     for i, file_ in enumerate(f):\n",
    "            if file_.strip()[-4:] == \".npy\":\n",
    "                os.rename(\"{}\".format(file_.strip()),\n",
    "                       \"npy_samples/{}\".format(file_.strip()))\n",
    "                \n",
    "# command line \"aws s3 cp . s3://swingmusic001/MelSpecs_1 --recursive\"\n",
    "\n",
    "# Navigate to wav_samples delete all files \"sudo rm -rf \"\n",
    "\n",
    "import os \n",
    "\n",
    "with open('wav_files_for_s3_transfer.txt') as f:\n",
    "     for i, file_ in enumerate(f):\n",
    "            if file_.strip()[-4:] == \".mp3\":\n",
    "                os.system(\"rm {}\".format(file_.strip()))\n",
    "\n",
    "import os \n",
    "\n",
    "with open('wav_files_for_s3_transfer.txt') as f:\n",
    "     for i, file_ in enumerate(f):\n",
    "            if file_.strip()[-4:] == \".wav\":\n",
    "                os.rename(\"{}\".format(file_.strip()),\n",
    "                       \"wav_samples/{}\".format(file_.strip()))"
   ]
  },
  {
   "cell_type": "code",
   "execution_count": 3,
   "metadata": {
    "collapsed": true
   },
   "outputs": [],
   "source": [
    "df = pd.read_pickle('processed_data/npy_group_1_B.pkl')"
   ]
  },
  {
   "cell_type": "code",
   "execution_count": 5,
   "metadata": {},
   "outputs": [
    {
     "data": {
      "text/html": [
       "<div>\n",
       "<style>\n",
       "    .dataframe thead tr:only-child th {\n",
       "        text-align: right;\n",
       "    }\n",
       "\n",
       "    .dataframe thead th {\n",
       "        text-align: left;\n",
       "    }\n",
       "\n",
       "    .dataframe tbody tr th {\n",
       "        vertical-align: top;\n",
       "    }\n",
       "</style>\n",
       "<table border=\"1\" class=\"dataframe\">\n",
       "  <thead>\n",
       "    <tr style=\"text-align: right;\">\n",
       "      <th></th>\n",
       "      <th>filename</th>\n",
       "      <th>sample_name</th>\n",
       "      <th>3d_arr</th>\n",
       "    </tr>\n",
       "  </thead>\n",
       "  <tbody>\n",
       "    <tr>\n",
       "      <th>1000</th>\n",
       "      <td>1984-Blues</td>\n",
       "      <td>1984-Blues-06</td>\n",
       "      <td>[[[-19.5027257133], [-23.06266329], [-25.75679...</td>\n",
       "    </tr>\n",
       "    <tr>\n",
       "      <th>1001</th>\n",
       "      <td>1987-None</td>\n",
       "      <td>1987-None-01</td>\n",
       "      <td>[[[-24.0689398276], [-29.8892499977], [-40.894...</td>\n",
       "    </tr>\n",
       "    <tr>\n",
       "      <th>1002</th>\n",
       "      <td>1987-None</td>\n",
       "      <td>1987-None-02</td>\n",
       "      <td>[[[-18.1190329661], [-24.2552022866], [-43.254...</td>\n",
       "    </tr>\n",
       "    <tr>\n",
       "      <th>1003</th>\n",
       "      <td>1987-None</td>\n",
       "      <td>1987-None-03</td>\n",
       "      <td>[[[-27.10975612], [-33.168701776], [-57.283787...</td>\n",
       "    </tr>\n",
       "    <tr>\n",
       "      <th>1004</th>\n",
       "      <td>1987-None</td>\n",
       "      <td>1987-None-04</td>\n",
       "      <td>[[[-24.3847689226], [-30.4204526489], [-46.073...</td>\n",
       "    </tr>\n",
       "  </tbody>\n",
       "</table>\n",
       "</div>"
      ],
      "text/plain": [
       "        filename    sample_name  \\\n",
       "1000  1984-Blues  1984-Blues-06   \n",
       "1001   1987-None   1987-None-01   \n",
       "1002   1987-None   1987-None-02   \n",
       "1003   1987-None   1987-None-03   \n",
       "1004   1987-None   1987-None-04   \n",
       "\n",
       "                                                 3d_arr  \n",
       "1000  [[[-19.5027257133], [-23.06266329], [-25.75679...  \n",
       "1001  [[[-24.0689398276], [-29.8892499977], [-40.894...  \n",
       "1002  [[[-18.1190329661], [-24.2552022866], [-43.254...  \n",
       "1003  [[[-27.10975612], [-33.168701776], [-57.283787...  \n",
       "1004  [[[-24.3847689226], [-30.4204526489], [-46.073...  "
      ]
     },
     "execution_count": 5,
     "metadata": {},
     "output_type": "execute_result"
    }
   ],
   "source": [
    "df.head()"
   ]
  },
  {
   "cell_type": "code",
   "execution_count": null,
   "metadata": {
    "collapsed": true
   },
   "outputs": [],
   "source": [
    "# transfer wavs only to S3\n",
    "\n",
    "import os\n",
    "\n",
    "with open('wav_to_process.txt') as f:\n",
    "     for i, file_ in enumerate(f):\n",
    "            if file_.strip()[-4:] == \".wav\":\n",
    "                os.system(\"aws s3 cp wav_samples/{} s3://swingmusic001/wav_files_1/{}\".format(file_.strip(), file_.strip()))"
   ]
  }
 ],
 "metadata": {
  "kernelspec": {
   "display_name": "Python 2",
   "language": "python",
   "name": "python2"
  },
  "language_info": {
   "codemirror_mode": {
    "name": "ipython",
    "version": 2
   },
   "file_extension": ".py",
   "mimetype": "text/x-python",
   "name": "python",
   "nbconvert_exporter": "python",
   "pygments_lexer": "ipython2",
   "version": "2.7.13"
  }
 },
 "nbformat": 4,
 "nbformat_minor": 2
}
